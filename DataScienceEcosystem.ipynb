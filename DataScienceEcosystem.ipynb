{
 "cells": [
  {
   "cell_type": "markdown",
   "id": "2b149847-9bbe-49f6-8763-864a5ebb87e9",
   "metadata": {
    "tags": []
   },
   "source": [
    "# Data Science Tools and Ecosystem"
   ]
  },
  {
   "cell_type": "markdown",
   "id": "6f627abb-a590-43e7-b723-e8aa7ea78a7d",
   "metadata": {},
   "source": [
    "In this notebook, Data Science Tools and Ecosystem are summarized."
   ]
  },
  {
   "cell_type": "markdown",
   "id": "54cfc77b-10a0-4ccc-aad9-5cf21d1318c7",
   "metadata": {},
   "source": [
    "Some of the popular languages that Data Scientists use are:\n",
    "1. Python\n",
    "2. R\n",
    "3. SQL\n",
    "4. Julia"
   ]
  },
  {
   "cell_type": "markdown",
   "id": "9831b494-36c8-4204-bb71-7eddb0a43926",
   "metadata": {},
   "source": [
    "Some of the commonly used libraries used by Data Scientists include:\n",
    "1. NumPy\n",
    "2. Pandas\n",
    "3. Matplotlib\n",
    "4. Keras"
   ]
  },
  {
   "cell_type": "markdown",
   "id": "a7432142-8bbe-4772-a539-04d1315bc1ec",
   "metadata": {},
   "source": [
    "| Data Science Tools |\n",
    "|--------------------|\n",
    "| Jupyter Notebook   |\n",
    "| RStudio            |\n",
    "| Apache Zeppelin    |"
   ]
  },
  {
   "cell_type": "markdown",
   "id": "b45c8ccf-e793-451d-a038-37d763aa9c77",
   "metadata": {},
   "source": [
    "### Below are a few examples of evaluating arithmetic expressions in Python."
   ]
  },
  {
   "cell_type": "code",
   "execution_count": null,
   "id": "49daa7db-7e69-45e8-ba1c-4c5c9a9602c1",
   "metadata": {},
   "outputs": [],
   "source": [
    "# This a simple arithmetic expression to mutiply then add integers."
   ]
  },
  {
   "cell_type": "code",
   "execution_count": 1,
   "id": "14ed2208-b159-4b08-b56a-4ee76db2148c",
   "metadata": {
    "tags": []
   },
   "outputs": [
    {
     "data": {
      "text/plain": [
       "17"
      ]
     },
     "execution_count": 1,
     "metadata": {},
     "output_type": "execute_result"
    }
   ],
   "source": [
    "(3*4)+5"
   ]
  },
  {
   "cell_type": "code",
   "execution_count": null,
   "id": "3a6d6a05-a27b-40c4-a331-39bc8a562983",
   "metadata": {},
   "outputs": [],
   "source": [
    "# This will convert 200 minutes to hours by diving by 60"
   ]
  },
  {
   "cell_type": "code",
   "execution_count": 2,
   "id": "a4a331b8-516f-4091-ad5b-e1a6c667bf5c",
   "metadata": {
    "tags": []
   },
   "outputs": [
    {
     "data": {
      "text/plain": [
       "3.3333333333333335"
      ]
     },
     "execution_count": 2,
     "metadata": {},
     "output_type": "execute_result"
    }
   ],
   "source": [
    "200/60"
   ]
  },
  {
   "cell_type": "markdown",
   "id": "71f23c22-05ed-4283-bf4d-27a03b6078b9",
   "metadata": {},
   "source": [
    "**Objectives:**\n",
    "- List popular languages for Data Science\n",
    "- List commonly used libraries by Data Scientists\n",
    "- Describe what is data science"
   ]
  },
  {
   "cell_type": "markdown",
   "id": "a1ede774-9ffa-474a-9fed-c91178715efe",
   "metadata": {},
   "source": [
    "## Author\n",
    "Lucia"
   ]
  },
  {
   "cell_type": "code",
   "execution_count": null,
   "id": "4abb1f68-c881-462b-b2ba-0f5a3d53f137",
   "metadata": {},
   "outputs": [],
   "source": []
  }
 ],
 "metadata": {
  "kernelspec": {
   "display_name": "Python",
   "language": "python",
   "name": "conda-env-python-py"
  },
  "language_info": {
   "codemirror_mode": {
    "name": "ipython",
    "version": 3
   },
   "file_extension": ".py",
   "mimetype": "text/x-python",
   "name": "python",
   "nbconvert_exporter": "python",
   "pygments_lexer": "ipython3",
   "version": "3.7.12"
  }
 },
 "nbformat": 4,
 "nbformat_minor": 5
}
